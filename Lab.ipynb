{
 "metadata": {
  "language_info": {
   "codemirror_mode": {
    "name": "ipython",
    "version": 3
   },
   "file_extension": ".py",
   "mimetype": "text/x-python",
   "name": "python",
   "nbconvert_exporter": "python",
   "pygments_lexer": "ipython3",
   "version": 3
  },
  "orig_nbformat": 2,
  "kernelspec": {
   "name": "python_defaultSpec_1595963656810",
   "display_name": "Python 3.7.6 64-bit ('base': conda)"
  }
 },
 "nbformat": 4,
 "nbformat_minor": 2,
 "cells": [
  {
   "cell_type": "code",
   "execution_count": 1,
   "metadata": {},
   "outputs": [
    {
     "output_type": "execute_result",
     "data": {
      "text/plain": "       Row.ID                  Order.ID Order.Date Ship.Date       Ship.Mode  \\\n0       40098  CA-2014-AB10015140-41954   11/11/14  11/13/14     First Class   \n1       26341    IN-2014-JR162107-41675     2/5/14    2/7/14    Second Class   \n2       25330    IN-2014-CR127307-41929   10/17/14  10/18/14     First Class   \n3       13524   ES-2014-KM1637548-41667    1/28/14   1/30/14     First Class   \n4       47221   SG-2014-RH9495111-41948    11/5/14   11/6/14        Same Day   \n...       ...                       ...        ...       ...             ...   \n51285   29002   IN-2015-KE1642066-42174    6/19/15   6/19/15        Same Day   \n51286   34337  US-2014-ZD21925140-41765     5/6/14   5/10/14  Standard Class   \n51287   31315  CA-2012-ZD21925140-41147    8/26/12   8/31/12    Second Class   \n51288    9596   MX-2013-RB1979518-41322    2/17/13   2/21/13  Standard Class   \n51289    6147   MX-2013-MC1810093-41416    5/22/13   5/26/13    Second Class   \n\n        Customer.ID       Customer.Name      Segment  Postal.Code  \\\n0      AB-100151402       Aaron Bergman     Consumer      73120.0   \n1         JR-162107       Justin Ritter    Corporate          NaN   \n2         CR-127307        Craig Reiter     Consumer          NaN   \n3        KM-1637548    Katherine Murray  Home Office          NaN   \n4        RH-9495111         Rick Hansen     Consumer          NaN   \n...             ...                 ...          ...          ...   \n51285    KE-1642066     Katrina Edelman    Corporate          NaN   \n51286  ZD-219251408  Zuschuss Donatelli     Consumer      37421.0   \n51287  ZD-219251404  Zuschuss Donatelli     Consumer      94109.0   \n51288    RB-1979518          Ross Baird  Home Office          NaN   \n51289    MC-1810093       Mick Crebagga     Consumer          NaN   \n\n                City  ...   Product.ID         Category Sub.Category  \\\n0      Oklahoma City  ...  TEC-PH-5816       Technology       Phones   \n1         Wollongong  ...  FUR-CH-5379        Furniture       Chairs   \n2           Brisbane  ...  TEC-PH-5356       Technology       Phones   \n3             Berlin  ...  TEC-PH-5267       Technology       Phones   \n4              Dakar  ...  TEC-CO-6011       Technology      Copiers   \n...              ...  ...          ...              ...          ...   \n51285           Kure  ...  OFF-FA-3072  Office Supplies    Fasteners   \n51286    Chattanooga  ...  FUR-FU-4070        Furniture  Furnishings   \n51287  San Francisco  ...  OFF-AR-5321  Office Supplies          Art   \n51288       Valinhos  ...  OFF-BI-2919  Office Supplies      Binders   \n51289       Tipitapa  ...  OFF-PA-3990  Office Supplies        Paper   \n\n                                        Product.Name      Sales Quantity  \\\n0                                   Samsung Convoy 3    $221.98        2   \n1          Novimex Executive Leather Armchair, Black  $3,709.40        9   \n2                  Nokia Smart Phone, with Caller ID  $5,175.17        9   \n3                     Motorola Smart Phone, Cordless  $2,892.51        5   \n4                     Sharp Wireless Fax, High-Speed  $2,832.96        8   \n...                                              ...        ...      ...   \n51285                  Advantus Thumb Tacks, 12 Pack     $65.10        5   \n51286  Eldon Image Series Desk Accessories, Burgundy     $16.72        5   \n51287                                     Newell 341      $8.56        2   \n51288                        Acco Index Tab, Economy     $13.44        2   \n51289        Eaton Computer Printout Paper, 8.5 x 11     $61.38        3   \n\n      Discount    Profit Shipping.Cost  Order.Priority  \n0          0.0    $62.15        40.770            High  \n1          0.1  -$288.77       923.630        Critical  \n2          0.1   $919.97       915.490          Medium  \n3          0.1   -$96.54       910.160          Medium  \n4          0.0   $311.52       903.040        Critical  \n...        ...       ...           ...             ...  \n51285      0.0     $4.50         1.010          Medium  \n51286      0.2     $3.34         1.930            High  \n51287      0.0     $2.48         1.580            High  \n51288      0.0     $2.40         1.003          Medium  \n51289      0.0     $1.80         1.002            High  \n\n[51290 rows x 24 columns]",
      "text/html": "<div>\n<style scoped>\n    .dataframe tbody tr th:only-of-type {\n        vertical-align: middle;\n    }\n\n    .dataframe tbody tr th {\n        vertical-align: top;\n    }\n\n    .dataframe thead th {\n        text-align: right;\n    }\n</style>\n<table border=\"1\" class=\"dataframe\">\n  <thead>\n    <tr style=\"text-align: right;\">\n      <th></th>\n      <th>Row.ID</th>\n      <th>Order.ID</th>\n      <th>Order.Date</th>\n      <th>Ship.Date</th>\n      <th>Ship.Mode</th>\n      <th>Customer.ID</th>\n      <th>Customer.Name</th>\n      <th>Segment</th>\n      <th>Postal.Code</th>\n      <th>City</th>\n      <th>...</th>\n      <th>Product.ID</th>\n      <th>Category</th>\n      <th>Sub.Category</th>\n      <th>Product.Name</th>\n      <th>Sales</th>\n      <th>Quantity</th>\n      <th>Discount</th>\n      <th>Profit</th>\n      <th>Shipping.Cost</th>\n      <th>Order.Priority</th>\n    </tr>\n  </thead>\n  <tbody>\n    <tr>\n      <th>0</th>\n      <td>40098</td>\n      <td>CA-2014-AB10015140-41954</td>\n      <td>11/11/14</td>\n      <td>11/13/14</td>\n      <td>First Class</td>\n      <td>AB-100151402</td>\n      <td>Aaron Bergman</td>\n      <td>Consumer</td>\n      <td>73120.0</td>\n      <td>Oklahoma City</td>\n      <td>...</td>\n      <td>TEC-PH-5816</td>\n      <td>Technology</td>\n      <td>Phones</td>\n      <td>Samsung Convoy 3</td>\n      <td>$221.98</td>\n      <td>2</td>\n      <td>0.0</td>\n      <td>$62.15</td>\n      <td>40.770</td>\n      <td>High</td>\n    </tr>\n    <tr>\n      <th>1</th>\n      <td>26341</td>\n      <td>IN-2014-JR162107-41675</td>\n      <td>2/5/14</td>\n      <td>2/7/14</td>\n      <td>Second Class</td>\n      <td>JR-162107</td>\n      <td>Justin Ritter</td>\n      <td>Corporate</td>\n      <td>NaN</td>\n      <td>Wollongong</td>\n      <td>...</td>\n      <td>FUR-CH-5379</td>\n      <td>Furniture</td>\n      <td>Chairs</td>\n      <td>Novimex Executive Leather Armchair, Black</td>\n      <td>$3,709.40</td>\n      <td>9</td>\n      <td>0.1</td>\n      <td>-$288.77</td>\n      <td>923.630</td>\n      <td>Critical</td>\n    </tr>\n    <tr>\n      <th>2</th>\n      <td>25330</td>\n      <td>IN-2014-CR127307-41929</td>\n      <td>10/17/14</td>\n      <td>10/18/14</td>\n      <td>First Class</td>\n      <td>CR-127307</td>\n      <td>Craig Reiter</td>\n      <td>Consumer</td>\n      <td>NaN</td>\n      <td>Brisbane</td>\n      <td>...</td>\n      <td>TEC-PH-5356</td>\n      <td>Technology</td>\n      <td>Phones</td>\n      <td>Nokia Smart Phone, with Caller ID</td>\n      <td>$5,175.17</td>\n      <td>9</td>\n      <td>0.1</td>\n      <td>$919.97</td>\n      <td>915.490</td>\n      <td>Medium</td>\n    </tr>\n    <tr>\n      <th>3</th>\n      <td>13524</td>\n      <td>ES-2014-KM1637548-41667</td>\n      <td>1/28/14</td>\n      <td>1/30/14</td>\n      <td>First Class</td>\n      <td>KM-1637548</td>\n      <td>Katherine Murray</td>\n      <td>Home Office</td>\n      <td>NaN</td>\n      <td>Berlin</td>\n      <td>...</td>\n      <td>TEC-PH-5267</td>\n      <td>Technology</td>\n      <td>Phones</td>\n      <td>Motorola Smart Phone, Cordless</td>\n      <td>$2,892.51</td>\n      <td>5</td>\n      <td>0.1</td>\n      <td>-$96.54</td>\n      <td>910.160</td>\n      <td>Medium</td>\n    </tr>\n    <tr>\n      <th>4</th>\n      <td>47221</td>\n      <td>SG-2014-RH9495111-41948</td>\n      <td>11/5/14</td>\n      <td>11/6/14</td>\n      <td>Same Day</td>\n      <td>RH-9495111</td>\n      <td>Rick Hansen</td>\n      <td>Consumer</td>\n      <td>NaN</td>\n      <td>Dakar</td>\n      <td>...</td>\n      <td>TEC-CO-6011</td>\n      <td>Technology</td>\n      <td>Copiers</td>\n      <td>Sharp Wireless Fax, High-Speed</td>\n      <td>$2,832.96</td>\n      <td>8</td>\n      <td>0.0</td>\n      <td>$311.52</td>\n      <td>903.040</td>\n      <td>Critical</td>\n    </tr>\n    <tr>\n      <th>...</th>\n      <td>...</td>\n      <td>...</td>\n      <td>...</td>\n      <td>...</td>\n      <td>...</td>\n      <td>...</td>\n      <td>...</td>\n      <td>...</td>\n      <td>...</td>\n      <td>...</td>\n      <td>...</td>\n      <td>...</td>\n      <td>...</td>\n      <td>...</td>\n      <td>...</td>\n      <td>...</td>\n      <td>...</td>\n      <td>...</td>\n      <td>...</td>\n      <td>...</td>\n      <td>...</td>\n    </tr>\n    <tr>\n      <th>51285</th>\n      <td>29002</td>\n      <td>IN-2015-KE1642066-42174</td>\n      <td>6/19/15</td>\n      <td>6/19/15</td>\n      <td>Same Day</td>\n      <td>KE-1642066</td>\n      <td>Katrina Edelman</td>\n      <td>Corporate</td>\n      <td>NaN</td>\n      <td>Kure</td>\n      <td>...</td>\n      <td>OFF-FA-3072</td>\n      <td>Office Supplies</td>\n      <td>Fasteners</td>\n      <td>Advantus Thumb Tacks, 12 Pack</td>\n      <td>$65.10</td>\n      <td>5</td>\n      <td>0.0</td>\n      <td>$4.50</td>\n      <td>1.010</td>\n      <td>Medium</td>\n    </tr>\n    <tr>\n      <th>51286</th>\n      <td>34337</td>\n      <td>US-2014-ZD21925140-41765</td>\n      <td>5/6/14</td>\n      <td>5/10/14</td>\n      <td>Standard Class</td>\n      <td>ZD-219251408</td>\n      <td>Zuschuss Donatelli</td>\n      <td>Consumer</td>\n      <td>37421.0</td>\n      <td>Chattanooga</td>\n      <td>...</td>\n      <td>FUR-FU-4070</td>\n      <td>Furniture</td>\n      <td>Furnishings</td>\n      <td>Eldon Image Series Desk Accessories, Burgundy</td>\n      <td>$16.72</td>\n      <td>5</td>\n      <td>0.2</td>\n      <td>$3.34</td>\n      <td>1.930</td>\n      <td>High</td>\n    </tr>\n    <tr>\n      <th>51287</th>\n      <td>31315</td>\n      <td>CA-2012-ZD21925140-41147</td>\n      <td>8/26/12</td>\n      <td>8/31/12</td>\n      <td>Second Class</td>\n      <td>ZD-219251404</td>\n      <td>Zuschuss Donatelli</td>\n      <td>Consumer</td>\n      <td>94109.0</td>\n      <td>San Francisco</td>\n      <td>...</td>\n      <td>OFF-AR-5321</td>\n      <td>Office Supplies</td>\n      <td>Art</td>\n      <td>Newell 341</td>\n      <td>$8.56</td>\n      <td>2</td>\n      <td>0.0</td>\n      <td>$2.48</td>\n      <td>1.580</td>\n      <td>High</td>\n    </tr>\n    <tr>\n      <th>51288</th>\n      <td>9596</td>\n      <td>MX-2013-RB1979518-41322</td>\n      <td>2/17/13</td>\n      <td>2/21/13</td>\n      <td>Standard Class</td>\n      <td>RB-1979518</td>\n      <td>Ross Baird</td>\n      <td>Home Office</td>\n      <td>NaN</td>\n      <td>Valinhos</td>\n      <td>...</td>\n      <td>OFF-BI-2919</td>\n      <td>Office Supplies</td>\n      <td>Binders</td>\n      <td>Acco Index Tab, Economy</td>\n      <td>$13.44</td>\n      <td>2</td>\n      <td>0.0</td>\n      <td>$2.40</td>\n      <td>1.003</td>\n      <td>Medium</td>\n    </tr>\n    <tr>\n      <th>51289</th>\n      <td>6147</td>\n      <td>MX-2013-MC1810093-41416</td>\n      <td>5/22/13</td>\n      <td>5/26/13</td>\n      <td>Second Class</td>\n      <td>MC-1810093</td>\n      <td>Mick Crebagga</td>\n      <td>Consumer</td>\n      <td>NaN</td>\n      <td>Tipitapa</td>\n      <td>...</td>\n      <td>OFF-PA-3990</td>\n      <td>Office Supplies</td>\n      <td>Paper</td>\n      <td>Eaton Computer Printout Paper, 8.5 x 11</td>\n      <td>$61.38</td>\n      <td>3</td>\n      <td>0.0</td>\n      <td>$1.80</td>\n      <td>1.002</td>\n      <td>High</td>\n    </tr>\n  </tbody>\n</table>\n<p>51290 rows × 24 columns</p>\n</div>"
     },
     "metadata": {},
     "execution_count": 1
    }
   ],
   "source": [
    "import pandas as pd\n",
    "import matplotlib.pyplot as plt\n",
    "orders = pd.read_csv('./data/Orders.csv')\n",
    "returns = pd.read_csv('./data/Returns.csv')\n",
    "orders_copy = orders\n",
    "orders"
   ]
  },
  {
   "cell_type": "code",
   "execution_count": 98,
   "metadata": {},
   "outputs": [
    {
     "output_type": "execute_result",
     "data": {
      "text/plain": "Row.ID                     int64\nOrder.ID                  object\nOrder.Date        datetime64[ns]\nShip.Date                 object\nShip.Mode                 object\nCustomer.ID               object\nCustomer.Name             object\nSegment                   object\nPostal.Code              float64\nCity                      object\nState                     object\nCountry                   object\nRegion                    object\nMarket                    object\nProduct.ID                object\nCategory                  object\nSub.Category              object\nProduct.Name              object\nSales                    float64\nQuantity                   int64\nDiscount                 float64\nProfit                   float64\nShipping.Cost            float64\nOrder.Priority            object\ndtype: object"
     },
     "metadata": {},
     "execution_count": 98
    }
   ],
   "source": [
    "orders.columns\n",
    "orders_copy.dtypes"
   ]
  },
  {
   "cell_type": "code",
   "execution_count": 2,
   "metadata": {
    "tags": []
   },
   "outputs": [],
   "source": [
    "orders_copy['Profit'] = orders_copy['Profit'].str.replace('$', '').str.replace(',', '').astype('float')\n",
    "orders_copy['Sales'] = orders_copy['Sales'].str.replace('$', '').str.replace(',', '').astype('float')"
   ]
  },
  {
   "cell_type": "code",
   "execution_count": 149,
   "metadata": {
    "tags": []
   },
   "outputs": [
    {
     "output_type": "execute_result",
     "data": {
      "text/plain": "            Quantity         Category\nOrder.Date                           \n2014-11-11         2       Technology\n2014-02-05         9        Furniture\n2014-10-17         9       Technology\n2014-01-28         5       Technology\n2014-11-05         8       Technology\n...              ...              ...\n2015-06-19         5  Office Supplies\n2014-05-06         5        Furniture\n2012-08-26         2  Office Supplies\n2013-02-17         2  Office Supplies\n2013-05-22         3  Office Supplies\n\n[51290 rows x 2 columns]",
      "text/html": "<div>\n<style scoped>\n    .dataframe tbody tr th:only-of-type {\n        vertical-align: middle;\n    }\n\n    .dataframe tbody tr th {\n        vertical-align: top;\n    }\n\n    .dataframe thead th {\n        text-align: right;\n    }\n</style>\n<table border=\"1\" class=\"dataframe\">\n  <thead>\n    <tr style=\"text-align: right;\">\n      <th></th>\n      <th>Quantity</th>\n      <th>Category</th>\n    </tr>\n    <tr>\n      <th>Order.Date</th>\n      <th></th>\n      <th></th>\n    </tr>\n  </thead>\n  <tbody>\n    <tr>\n      <th>2014-11-11</th>\n      <td>2</td>\n      <td>Technology</td>\n    </tr>\n    <tr>\n      <th>2014-02-05</th>\n      <td>9</td>\n      <td>Furniture</td>\n    </tr>\n    <tr>\n      <th>2014-10-17</th>\n      <td>9</td>\n      <td>Technology</td>\n    </tr>\n    <tr>\n      <th>2014-01-28</th>\n      <td>5</td>\n      <td>Technology</td>\n    </tr>\n    <tr>\n      <th>2014-11-05</th>\n      <td>8</td>\n      <td>Technology</td>\n    </tr>\n    <tr>\n      <th>...</th>\n      <td>...</td>\n      <td>...</td>\n    </tr>\n    <tr>\n      <th>2015-06-19</th>\n      <td>5</td>\n      <td>Office Supplies</td>\n    </tr>\n    <tr>\n      <th>2014-05-06</th>\n      <td>5</td>\n      <td>Furniture</td>\n    </tr>\n    <tr>\n      <th>2012-08-26</th>\n      <td>2</td>\n      <td>Office Supplies</td>\n    </tr>\n    <tr>\n      <th>2013-02-17</th>\n      <td>2</td>\n      <td>Office Supplies</td>\n    </tr>\n    <tr>\n      <th>2013-05-22</th>\n      <td>3</td>\n      <td>Office Supplies</td>\n    </tr>\n  </tbody>\n</table>\n<p>51290 rows × 2 columns</p>\n</div>"
     },
     "metadata": {},
     "execution_count": 149
    }
   ],
   "source": [
    "orders_copy['Order.Date'] = pd.to_datetime(orders_copy['Order.Date'])\n",
    "seasonal = orders_copy[['Order.Date', 'Quantity', 'Category']]\n",
    "seasonal = seasonal.set_index('Order.Date')\n",
    "# seasonal = seasonal.groupby(['Order.Date', 'Category']).agg({'Quantity': 'sum'})\n",
    "seasonal"
   ]
  },
  {
   "cell_type": "code",
   "execution_count": 34,
   "metadata": {},
   "outputs": [
    {
     "output_type": "execute_result",
     "data": {
      "text/plain": "                 Returned\nCategory                 \nOffice Supplies      1348\nTechnology            445\nFurniture             427",
      "text/html": "<div>\n<style scoped>\n    .dataframe tbody tr th:only-of-type {\n        vertical-align: middle;\n    }\n\n    .dataframe tbody tr th {\n        vertical-align: top;\n    }\n\n    .dataframe thead th {\n        text-align: right;\n    }\n</style>\n<table border=\"1\" class=\"dataframe\">\n  <thead>\n    <tr style=\"text-align: right;\">\n      <th></th>\n      <th>Returned</th>\n    </tr>\n    <tr>\n      <th>Category</th>\n      <th></th>\n    </tr>\n  </thead>\n  <tbody>\n    <tr>\n      <th>Office Supplies</th>\n      <td>1348</td>\n    </tr>\n    <tr>\n      <th>Technology</th>\n      <td>445</td>\n    </tr>\n    <tr>\n      <th>Furniture</th>\n      <td>427</td>\n    </tr>\n  </tbody>\n</table>\n</div>"
     },
     "metadata": {},
     "execution_count": 34
    }
   ],
   "source": [
    "returns_copy = returns.rename(columns={'Order ID': 'Order.ID'})\n",
    "combined = orders_copy.merge(returns_copy, on='Order.ID', how='left')\n",
    "returned_count = combined.groupby(['Customer.Name']).agg({'Returned': 'count'}).sort_values(by=['Returned'], ascending=False)\n",
    "returned_count.loc[returned_count['Returned'] > 5]\n",
    "returned_region = combined.groupby(['Region_y']).agg({'Returned': 'count'}).sort_values(by=['Returned'], ascending=False)\n",
    "returned_categories = combined.groupby(['Category']).agg({'Returned': 'count'}).sort_values(by=['Returned'], ascending=False)\n",
    "returned_categories\n"
   ]
  },
  {
   "cell_type": "code",
   "execution_count": 35,
   "metadata": {},
   "outputs": [],
   "source": [
    "combined_copy = combined\n",
    "combined_copy\n",
    "combined_copy['Returned'].loc[combined_copy['Returned'] == 'Yes']\n",
    "combined_copy['Returned'] = combined_copy['Returned'].apply(lambda x: 1 if x == 'Yes' else 0)\n",
    "combined_copy['Order.Date'] = pd.to_datetime(combined_copy['Order.Date'])\n",
    "combined_copy['Ship.Date'] = pd.to_datetime(combined_copy    ['Ship.Date'])\n",
    "combined_copy['Process.Time'] = combined_copy['Ship.Date'] - combined_copy['Order.Date']"
   ]
  },
  {
   "cell_type": "code",
   "execution_count": 130,
   "metadata": {},
   "outputs": [
    {
     "output_type": "execute_result",
     "data": {
      "text/plain": "Empty DataFrame\nColumns: [Row.ID, Order.ID, Order.Date, Ship.Date, Ship.Mode, Customer.ID, Customer.Name, Segment, Postal.Code, City, State, Country, Region_x, Market, Product.ID, Category, Sub.Category, Product.Name, Sales, Quantity, Discount, Profit, Shipping.Cost, Order.Priority, Returned, Region_y, Process.Time, Returned.Count]\nIndex: []\n\n[0 rows x 28 columns]",
      "text/html": "<div>\n<style scoped>\n    .dataframe tbody tr th:only-of-type {\n        vertical-align: middle;\n    }\n\n    .dataframe tbody tr th {\n        vertical-align: top;\n    }\n\n    .dataframe thead th {\n        text-align: right;\n    }\n</style>\n<table border=\"1\" class=\"dataframe\">\n  <thead>\n    <tr style=\"text-align: right;\">\n      <th></th>\n      <th>Row.ID</th>\n      <th>Order.ID</th>\n      <th>Order.Date</th>\n      <th>Ship.Date</th>\n      <th>Ship.Mode</th>\n      <th>Customer.ID</th>\n      <th>Customer.Name</th>\n      <th>Segment</th>\n      <th>Postal.Code</th>\n      <th>City</th>\n      <th>...</th>\n      <th>Sales</th>\n      <th>Quantity</th>\n      <th>Discount</th>\n      <th>Profit</th>\n      <th>Shipping.Cost</th>\n      <th>Order.Priority</th>\n      <th>Returned</th>\n      <th>Region_y</th>\n      <th>Process.Time</th>\n      <th>Returned.Count</th>\n    </tr>\n  </thead>\n  <tbody>\n  </tbody>\n</table>\n<p>0 rows × 28 columns</p>\n</div>"
     },
     "metadata": {},
     "execution_count": 130
    }
   ],
   "source": [
    "returned_ids = combined_copy.groupby(['Product.ID']).agg({'Returned':'count'}).sort_values(by=['Returned'], ascending=False)\n",
    "combined_copy.loc[combined_copy['Product.ID'].isin(returned_ids.index.values)]\n",
    "returned_ids['Product.ID'] = returned_ids.index\n",
    "returned_ids.rename({'Returned': 'Returned.Count'}, axis=1, inplace=True)\n",
    "returned_ids = returned_ids.reset_index(drop=True)\n",
    "final = combined_copy.merge(returned_ids, on='Product.ID')"
   ]
  },
  {
   "cell_type": "code",
   "execution_count": 39,
   "metadata": {},
   "outputs": [
    {
     "output_type": "execute_result",
     "data": {
      "text/plain": "0        0\n1        0\n2        0\n3        0\n4        0\n        ..\n51285    0\n51286    0\n51287    0\n51288    0\n51289    0\nName: Returned, Length: 49070, dtype: int64"
     },
     "metadata": {},
     "execution_count": 39
    }
   ],
   "source": []
  }
 ]
}